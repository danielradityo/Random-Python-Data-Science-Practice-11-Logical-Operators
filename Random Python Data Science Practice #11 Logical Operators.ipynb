{
 "cells": [
  {
   "cell_type": "markdown",
   "metadata": {},
   "source": [
    "# Random Python Data Science Practice #11"
   ]
  },
  {
   "cell_type": "markdown",
   "metadata": {},
   "source": [
    "## Logical Operators"
   ]
  },
  {
   "cell_type": "code",
   "execution_count": 25,
   "metadata": {},
   "outputs": [],
   "source": [
    "# Several Logical Operators\n",
    "a = 2 # --> integer\n",
    "b = 5 # --> integer "
   ]
  },
  {
   "cell_type": "markdown",
   "metadata": {},
   "source": [
    "## and"
   ]
  },
  {
   "cell_type": "code",
   "execution_count": 9,
   "metadata": {},
   "outputs": [
    {
     "name": "stdout",
     "output_type": "stream",
     "text": [
      "What if a < b and b > a ? True\n",
      "What if a < b and b == a ? False\n"
     ]
    }
   ],
   "source": [
    "# \"and\" logical operator will return True if all the statement are true\n",
    "print('What if a < b and b > a ?', a < b and b > a) # --> Result will true because all the statement are true.\n",
    "print('What if a < b and b == a ?', a < b and b == a) # --> Result will false because not all the statement are true."
   ]
  },
  {
   "cell_type": "markdown",
   "metadata": {},
   "source": [
    "## or"
   ]
  },
  {
   "cell_type": "code",
   "execution_count": 10,
   "metadata": {},
   "outputs": [
    {
     "name": "stdout",
     "output_type": "stream",
     "text": [
      "What if a < b or b = a ? True\n",
      "What if a > b or b = a ? False\n"
     ]
    }
   ],
   "source": [
    "# \"or\" logical operator will return True if one of the statement are true\n",
    "print('What if a < b or b = a ?', a < b or b == a) # --> Result will true because one of the statement are true.\n",
    "print('What if a > b or b = a ?', a > b or b == a) # --> Result will false because no one of the statement are true."
   ]
  },
  {
   "cell_type": "markdown",
   "metadata": {},
   "source": [
    "## not"
   ]
  },
  {
   "cell_type": "code",
   "execution_count": 29,
   "metadata": {},
   "outputs": [
    {
     "name": "stdout",
     "output_type": "stream",
     "text": [
      "What if not a > b or b = a ? True\n",
      "What if not a < b and b > a ? False\n"
     ]
    }
   ],
   "source": [
    "# \"not\" logical operator will reverse the result, this logical operator return False if the result is true, vice versa\n",
    "print('What if not a > b or b = a ?', not(a > b or b == a)) # --> Result from or will false because no one of the statement are true, but because use not then the result will reverse to true.\n",
    "print('What if not a < b and b > a ?', not(a < b and b > a)) # --> Result from and will true because all the statement are true, but because use not then the result will reverse to false."
   ]
  }
 ],
 "metadata": {
  "kernelspec": {
   "display_name": "Python 3",
   "language": "python",
   "name": "python3"
  },
  "language_info": {
   "codemirror_mode": {
    "name": "ipython",
    "version": 3
   },
   "file_extension": ".py",
   "mimetype": "text/x-python",
   "name": "python",
   "nbconvert_exporter": "python",
   "pygments_lexer": "ipython3",
   "version": "3.8.5"
  }
 },
 "nbformat": 4,
 "nbformat_minor": 4
}
